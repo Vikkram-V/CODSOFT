{
  "nbformat": 4,
  "nbformat_minor": 0,
  "metadata": {
    "colab": {
      "provenance": []
    },
    "kernelspec": {
      "name": "python3",
      "display_name": "Python 3"
    },
    "language_info": {
      "name": "python"
    },
    "accelerator": "TPU"
  },
  "cells": [
    {
      "cell_type": "markdown",
      "source": [
        "**Mount Google Drive**"
      ],
      "metadata": {
        "id": "hgMMyuZdpLoT"
      }
    },
    {
      "cell_type": "code",
      "source": [
        "from google.colab import drive\n",
        "drive.mount('/content/drive')"
      ],
      "metadata": {
        "colab": {
          "base_uri": "https://localhost:8080/"
        },
        "id": "Z0nuiRb3pQy7",
        "outputId": "bbaa201e-f61a-4028-925b-50cb08a463d5"
      },
      "execution_count": 3,
      "outputs": [
        {
          "output_type": "stream",
          "name": "stdout",
          "text": [
            "Mounted at /content/drive\n"
          ]
        }
      ]
    },
    {
      "cell_type": "markdown",
      "source": [
        "**Import necessary libraries**"
      ],
      "metadata": {
        "id": "_M1S-4NWgy9w"
      }
    },
    {
      "cell_type": "code",
      "source": [
        "import pandas as pd\n",
        "import numpy as np\n",
        "import matplotlib.pyplot as plt\n",
        "import seaborn as sns\n",
        "from sklearn.model_selection import train_test_split\n",
        "from sklearn.preprocessing import StandardScaler\n",
        "from sklearn.linear_model import LogisticRegression\n",
        "from sklearn.metrics import accuracy_score, confusion_matrix, classification_report"
      ],
      "metadata": {
        "id": "3puKYArkg_Y_"
      },
      "execution_count": 16,
      "outputs": []
    },
    {
      "cell_type": "markdown",
      "source": [
        "**Load the dataset**"
      ],
      "metadata": {
        "id": "KQ4T9GkCBX_a"
      }
    },
    {
      "cell_type": "code",
      "source": [
        "fraud_train = pd.read_csv('/content/drive/MyDrive/fraudTrain.csv')\n",
        "fraud_test = pd.read_csv('/content/drive/MyDrive/fraudTest.csv')"
      ],
      "metadata": {
        "id": "nTI84aAkBdwY"
      },
      "execution_count": 17,
      "outputs": []
    },
    {
      "cell_type": "markdown",
      "source": [
        "**Combine train and test data for preprocessing**"
      ],
      "metadata": {
        "id": "OYWoQILGCS4y"
      }
    },
    {
      "cell_type": "code",
      "source": [
        "fraud_data = pd.concat([fraud_train, fraud_test], axis=0, ignore_index=True)"
      ],
      "metadata": {
        "id": "0qX1z8SCCZSo"
      },
      "execution_count": 18,
      "outputs": []
    },
    {
      "cell_type": "markdown",
      "source": [
        "**Feature engineering and preprocessing**"
      ],
      "metadata": {
        "id": "_8wMWoshDQzw"
      }
    },
    {
      "cell_type": "code",
      "source": [
        "numerical_features = ['amt', 'lat', 'long', 'city_pop', 'unix_time', 'merch_lat', 'merch_long']\n",
        "X = fraud_data[numerical_features]\n",
        "y = fraud_data['is_fraud']"
      ],
      "metadata": {
        "id": "2LpZu8rXDZGQ"
      },
      "execution_count": 19,
      "outputs": []
    },
    {
      "cell_type": "markdown",
      "source": [
        "**Split data into train and test**"
      ],
      "metadata": {
        "id": "ZkYS1wmCDeY3"
      }
    },
    {
      "cell_type": "code",
      "source": [
        "X_train, X_test, y_train, y_test = train_test_split(X, y, test_size=0.2, random_state=42)"
      ],
      "metadata": {
        "id": "yFOkleQ_Djvk"
      },
      "execution_count": 20,
      "outputs": []
    },
    {
      "cell_type": "markdown",
      "source": [
        "**Standardize the features**"
      ],
      "metadata": {
        "id": "DjKwt2-1DpbH"
      }
    },
    {
      "cell_type": "code",
      "source": [
        "scaler = StandardScaler()\n",
        "X_train = scaler.fit_transform(X_train)\n",
        "X_test = scaler.transform(X_test)"
      ],
      "metadata": {
        "id": "mN0uJBDTDxaa"
      },
      "execution_count": 21,
      "outputs": []
    },
    {
      "cell_type": "markdown",
      "source": [
        "**Build and train the Logistic Regression model**"
      ],
      "metadata": {
        "id": "Hkzbr2trEEH6"
      }
    },
    {
      "cell_type": "code",
      "source": [
        "model_lr = LogisticRegression()\n",
        "model_lr.fit(X_train, y_train)\n",
        "y_pred_lr = model_lr.predict(X_test)"
      ],
      "metadata": {
        "id": "AgIvGxt0EMCR"
      },
      "execution_count": 22,
      "outputs": []
    },
    {
      "cell_type": "markdown",
      "source": [
        "**Logistic Regression Evaluation**"
      ],
      "metadata": {
        "id": "sqgX_U8GG5Jn"
      }
    },
    {
      "cell_type": "code",
      "source": [
        "accuracy_lr = accuracy_score(y_test, y_pred_lr)\n",
        "confusion_mat_lr = confusion_matrix(y_test, y_pred_lr)\n",
        "classification_rep_lr = classification_report(y_test, y_pred_lr)"
      ],
      "metadata": {
        "id": "B83wpW2jG8hL"
      },
      "execution_count": 23,
      "outputs": []
    },
    {
      "cell_type": "markdown",
      "source": [
        "**Display Model Evaluation Metrics for Logistic Regression**"
      ],
      "metadata": {
        "id": "hhp_uvUMHNr1"
      }
    },
    {
      "cell_type": "code",
      "source": [
        "print(\"\\nLogistic Regression Model Evaluation Metrics:\")\n",
        "print(f\"Accuracy: {accuracy_lr:.4f}\")\n",
        "print(\"\\nConfusion Matrix:\")\n",
        "print(confusion_mat_lr)\n",
        "print(\"\\nClassification Report:\")\n",
        "print(classification_rep_lr)"
      ],
      "metadata": {
        "colab": {
          "base_uri": "https://localhost:8080/"
        },
        "id": "dSbVahcwHUzo",
        "outputId": "16d40f83-2039-4236-935a-4b27d9226b90"
      },
      "execution_count": 24,
      "outputs": [
        {
          "output_type": "stream",
          "name": "stdout",
          "text": [
            "\n",
            "Logistic Regression Model Evaluation Metrics:\n",
            "Accuracy: 0.9943\n",
            "\n",
            "Confusion Matrix:\n",
            "[[368367    159]\n",
            " [  1953      0]]\n",
            "\n",
            "Classification Report:\n",
            "              precision    recall  f1-score   support\n",
            "\n",
            "           0       0.99      1.00      1.00    368526\n",
            "           1       0.00      0.00      0.00      1953\n",
            "\n",
            "    accuracy                           0.99    370479\n",
            "   macro avg       0.50      0.50      0.50    370479\n",
            "weighted avg       0.99      0.99      0.99    370479\n",
            "\n"
          ]
        }
      ]
    },
    {
      "cell_type": "markdown",
      "source": [
        "**Graph for Logistic Regression**"
      ],
      "metadata": {
        "id": "eGBwDQM-HlQm"
      }
    },
    {
      "cell_type": "code",
      "source": [
        "sns.countplot(x='is_fraud', data=fraud_data)\n",
        "plt.title('Fraud Count (Logistic Regression)')\n",
        "plt.xlabel('Fraud (0: No Fraud, 1: Fraud)')\n",
        "plt.ylabel('Count')\n",
        "plt.show()"
      ],
      "metadata": {
        "colab": {
          "base_uri": "https://localhost:8080/",
          "height": 472
        },
        "id": "xM5nP_9zHtRU",
        "outputId": "cde7bd22-0e99-4186-f417-e5e81cca21e9"
      },
      "execution_count": 26,
      "outputs": [
        {
          "output_type": "display_data",
          "data": {
            "text/plain": [
              "<Figure size 640x480 with 1 Axes>"
            ],
            "image/png": "[encoded data removed]"
          },
          "metadata": {}
        }
      ]
    }
  ]
}